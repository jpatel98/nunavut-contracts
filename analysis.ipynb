{
 "cells": [
  {
   "cell_type": "markdown",
   "id": "ac7968a8",
   "metadata": {},
   "source": [
    "# Govt of Nunavut, Dept of Family Services Contracts\n",
    "Analysis of contracts worth over $5,000 awarded by the Govt of Nunavut. The data last was scraped on March 18, 11:05pm EDT (see scraper.py for the code)."
   ]
  },
  {
   "cell_type": "markdown",
   "id": "a51a253c",
   "metadata": {},
   "source": [
    "## Importing libraries"
   ]
  },
  {
   "cell_type": "code",
   "execution_count": 341,
   "id": "04394d9d",
   "metadata": {},
   "outputs": [],
   "source": [
    "# Importing libraries\n",
    "import pandas as pd\n",
    "import numpy as np\n",
    "import matplotlib.pyplot as plt\n",
    "import plotly.graph_objs as go\n",
    "import seaborn as sns"
   ]
  },
  {
   "cell_type": "markdown",
   "id": "bc04e869",
   "metadata": {},
   "source": [
    "## Importing the csv file and exploring the data\n",
    "Import the csv file from the data directory and look for any duplicates, summary stats and inspect random rows."
   ]
  },
  {
   "cell_type": "code",
   "execution_count": 322,
   "id": "00f49d70",
   "metadata": {},
   "outputs": [
    {
     "name": "stdout",
     "output_type": "stream",
     "text": [
      "Number of rows and columns in the dataset: (1847, 8)\n"
     ]
    }
   ],
   "source": [
    "# Importing the csv file\n",
    "df = pd.read_csv('./data/data.csv')\n",
    "print(f\"Number of rows and columns in the dataset: {df.shape}\")"
   ]
  },
  {
   "cell_type": "code",
   "execution_count": 323,
   "id": "64851125",
   "metadata": {},
   "outputs": [
    {
     "data": {
      "text/html": [
       "<div>\n",
       "<style scoped>\n",
       "    .dataframe tbody tr th:only-of-type {\n",
       "        vertical-align: middle;\n",
       "    }\n",
       "\n",
       "    .dataframe tbody tr th {\n",
       "        vertical-align: top;\n",
       "    }\n",
       "\n",
       "    .dataframe thead th {\n",
       "        text-align: right;\n",
       "    }\n",
       "</style>\n",
       "<table border=\"1\" class=\"dataframe\">\n",
       "  <thead>\n",
       "    <tr style=\"text-align: right;\">\n",
       "      <th></th>\n",
       "      <th>Project Name</th>\n",
       "      <th>Contract Type</th>\n",
       "      <th>Contract Method</th>\n",
       "      <th>Community</th>\n",
       "      <th>Originating Department</th>\n",
       "      <th>Awarded To</th>\n",
       "      <th>Award Date</th>\n",
       "      <th>Award Value</th>\n",
       "    </tr>\n",
       "  </thead>\n",
       "  <tbody>\n",
       "    <tr>\n",
       "      <th>count</th>\n",
       "      <td>1838</td>\n",
       "      <td>1838</td>\n",
       "      <td>1838</td>\n",
       "      <td>1838</td>\n",
       "      <td>1838</td>\n",
       "      <td>1838</td>\n",
       "      <td>1838</td>\n",
       "      <td>1838</td>\n",
       "    </tr>\n",
       "    <tr>\n",
       "      <th>unique</th>\n",
       "      <td>342</td>\n",
       "      <td>7</td>\n",
       "      <td>6</td>\n",
       "      <td>32</td>\n",
       "      <td>1</td>\n",
       "      <td>335</td>\n",
       "      <td>559</td>\n",
       "      <td>1574</td>\n",
       "    </tr>\n",
       "    <tr>\n",
       "      <th>top</th>\n",
       "      <td>Residential Care</td>\n",
       "      <td>Service Contract</td>\n",
       "      <td>Public Request for Proposals</td>\n",
       "      <td>Iqaluit</td>\n",
       "      <td>Family Services</td>\n",
       "      <td>Bairn Croft Residential Services Inc.</td>\n",
       "      <td>01 April 2014</td>\n",
       "      <td>$23,500.00</td>\n",
       "    </tr>\n",
       "    <tr>\n",
       "      <th>freq</th>\n",
       "      <td>1054</td>\n",
       "      <td>1006</td>\n",
       "      <td>923</td>\n",
       "      <td>455</td>\n",
       "      <td>1838</td>\n",
       "      <td>126</td>\n",
       "      <td>194</td>\n",
       "      <td>14</td>\n",
       "    </tr>\n",
       "  </tbody>\n",
       "</table>\n",
       "</div>"
      ],
      "text/plain": [
       "            Project Name     Contract Type               Contract Method  \\\n",
       "count               1838              1838                          1838   \n",
       "unique               342                 7                             6   \n",
       "top     Residential Care  Service Contract  Public Request for Proposals   \n",
       "freq                1054              1006                           923   \n",
       "\n",
       "       Community Originating Department  \\\n",
       "count       1838                   1838   \n",
       "unique        32                      1   \n",
       "top      Iqaluit        Family Services   \n",
       "freq         455                   1838   \n",
       "\n",
       "                                   Awarded To     Award Date Award Value  \n",
       "count                                    1838           1838        1838  \n",
       "unique                                    335            559        1574  \n",
       "top     Bairn Croft Residential Services Inc.  01 April 2014  $23,500.00  \n",
       "freq                                      126            194          14  "
      ]
     },
     "execution_count": 323,
     "metadata": {},
     "output_type": "execute_result"
    }
   ],
   "source": [
    "# displays summary statistics for numerical columns\n",
    "df.describe()"
   ]
  },
  {
   "cell_type": "markdown",
   "id": "49df0b2c",
   "metadata": {},
   "source": [
    "## Data Clean Up\n",
    "There are 1847 rows in the dataframe. However, the describe() function shows there are only 1838 non-empty values. That means there are 9 empty rows. <br> <br>\n",
    "*Note: Indexes in programming generally start with 0 and jupyter notebook ignores the first row as it's all column names. So the row numbers are offset by 2 ie. if you see row number 296 as empty, it will show as row 298 on any csv file viewer like excel / google sheets.*"
   ]
  },
  {
   "cell_type": "code",
   "execution_count": 324,
   "id": "a022446a",
   "metadata": {},
   "outputs": [
    {
     "name": "stdout",
     "output_type": "stream",
     "text": [
      "     Project Name Contract Type Contract Method Community  \\\n",
      "296           NaN           NaN             NaN       NaN   \n",
      "297           NaN           NaN             NaN       NaN   \n",
      "328           NaN           NaN             NaN       NaN   \n",
      "448           NaN           NaN             NaN       NaN   \n",
      "449           NaN           NaN             NaN       NaN   \n",
      "588           NaN           NaN             NaN       NaN   \n",
      "726           NaN           NaN             NaN       NaN   \n",
      "756           NaN           NaN             NaN       NaN   \n",
      "1310          NaN           NaN             NaN       NaN   \n",
      "\n",
      "     Originating Department Awarded To Award Date Award Value  \n",
      "296                     NaN        NaN        NaN         NaN  \n",
      "297                     NaN        NaN        NaN         NaN  \n",
      "328                     NaN        NaN        NaN         NaN  \n",
      "448                     NaN        NaN        NaN         NaN  \n",
      "449                     NaN        NaN        NaN         NaN  \n",
      "588                     NaN        NaN        NaN         NaN  \n",
      "726                     NaN        NaN        NaN         NaN  \n",
      "756                     NaN        NaN        NaN         NaN  \n",
      "1310                    NaN        NaN        NaN         NaN  \n"
     ]
    }
   ],
   "source": [
    "# check for empty rows in the DataFrame\n",
    "empty_rows = df[df.isnull().all(axis=1)]\n",
    "\n",
    "# print the empty rows and row numbers\n",
    "print(empty_rows)"
   ]
  },
  {
   "cell_type": "code",
   "execution_count": 325,
   "id": "4b7a0f37",
   "metadata": {
    "scrolled": false
   },
   "outputs": [
    {
     "name": "stdout",
     "output_type": "stream",
     "text": [
      "Number of rows and columns in the clean dataset: (1838, 8)\n"
     ]
    }
   ],
   "source": [
    "# drop rows that have ALL missing or null values\n",
    "df = df.dropna(how='all')\n",
    "\n",
    "# Confirming the null rows have been dropped\n",
    "print(f\"Number of rows and columns in the clean dataset: {df.shape}\")"
   ]
  },
  {
   "cell_type": "code",
   "execution_count": 326,
   "id": "623f7470",
   "metadata": {},
   "outputs": [
    {
     "data": {
      "text/html": [
       "<div>\n",
       "<style scoped>\n",
       "    .dataframe tbody tr th:only-of-type {\n",
       "        vertical-align: middle;\n",
       "    }\n",
       "\n",
       "    .dataframe tbody tr th {\n",
       "        vertical-align: top;\n",
       "    }\n",
       "\n",
       "    .dataframe thead th {\n",
       "        text-align: right;\n",
       "    }\n",
       "</style>\n",
       "<table border=\"1\" class=\"dataframe\">\n",
       "  <thead>\n",
       "    <tr style=\"text-align: right;\">\n",
       "      <th></th>\n",
       "      <th>Project Name</th>\n",
       "      <th>Contract Type</th>\n",
       "      <th>Contract Method</th>\n",
       "      <th>Community</th>\n",
       "      <th>Originating Department</th>\n",
       "      <th>Awarded To</th>\n",
       "      <th>Award Date</th>\n",
       "      <th>Award Value</th>\n",
       "    </tr>\n",
       "  </thead>\n",
       "  <tbody>\n",
       "    <tr>\n",
       "      <th>1752</th>\n",
       "      <td>Residential Care</td>\n",
       "      <td>Consulting</td>\n",
       "      <td>Public Request for Proposals</td>\n",
       "      <td>Rankin Inlet</td>\n",
       "      <td>Family Services</td>\n",
       "      <td>Bairn Croft Residential Services Inc.</td>\n",
       "      <td>29 March 2019</td>\n",
       "      <td>$483,496.64</td>\n",
       "    </tr>\n",
       "    <tr>\n",
       "      <th>203</th>\n",
       "      <td>Review Child Abuse Response Protocols</td>\n",
       "      <td>Consulting</td>\n",
       "      <td>Public Request for Proposals</td>\n",
       "      <td>Nunavut Territory</td>\n",
       "      <td>Family Services</td>\n",
       "      <td>Michael Rudolph Consulting</td>\n",
       "      <td>17 January 2019</td>\n",
       "      <td>$14,000.00</td>\n",
       "    </tr>\n",
       "    <tr>\n",
       "      <th>1284</th>\n",
       "      <td>Group Home Windows and Doors Upgrades</td>\n",
       "      <td>Minor Construction or Services</td>\n",
       "      <td>Public Tender</td>\n",
       "      <td>Cambridge Bay</td>\n",
       "      <td>Family Services</td>\n",
       "      <td>Matador Products</td>\n",
       "      <td>15 September 2016</td>\n",
       "      <td>$173,830.00</td>\n",
       "    </tr>\n",
       "    <tr>\n",
       "      <th>243</th>\n",
       "      <td>SMC Charter</td>\n",
       "      <td>Air Charters</td>\n",
       "      <td>Invitational Tender</td>\n",
       "      <td>Iqaluit</td>\n",
       "      <td>Family Services</td>\n",
       "      <td>Air Nunavut</td>\n",
       "      <td>27 September 2013</td>\n",
       "      <td>$15,998.00</td>\n",
       "    </tr>\n",
       "    <tr>\n",
       "      <th>870</th>\n",
       "      <td>Residential Care</td>\n",
       "      <td>Service Contract</td>\n",
       "      <td>Public Request for Proposals</td>\n",
       "      <td>Gjoa Haven</td>\n",
       "      <td>Family Services</td>\n",
       "      <td>Sinclair Children's Residence Inc.</td>\n",
       "      <td>01 April 2015</td>\n",
       "      <td>$97,150.00</td>\n",
       "    </tr>\n",
       "    <tr>\n",
       "      <th>1673</th>\n",
       "      <td>Residential Care</td>\n",
       "      <td>Consulting</td>\n",
       "      <td>Public Request for Proposals</td>\n",
       "      <td>Qikiqtaaluk Region</td>\n",
       "      <td>Family Services</td>\n",
       "      <td>Partners in Parenting Inc.</td>\n",
       "      <td>01 April 2017</td>\n",
       "      <td>$328,260.00</td>\n",
       "    </tr>\n",
       "    <tr>\n",
       "      <th>403</th>\n",
       "      <td>Residential Care</td>\n",
       "      <td>Consulting</td>\n",
       "      <td>Public Request for Proposals</td>\n",
       "      <td>Iqaluit</td>\n",
       "      <td>Family Services</td>\n",
       "      <td>Stepping Stones Foster Care Inc.</td>\n",
       "      <td>01 April 2017</td>\n",
       "      <td>$28,811.86</td>\n",
       "    </tr>\n",
       "    <tr>\n",
       "      <th>50</th>\n",
       "      <td>Residential Care</td>\n",
       "      <td>Consulting</td>\n",
       "      <td>Public Request for Proposals</td>\n",
       "      <td>Iqaluit</td>\n",
       "      <td>Family Services</td>\n",
       "      <td>Stirpe, Stones &amp; Associates</td>\n",
       "      <td>16 January 2016</td>\n",
       "      <td>$6,638.75</td>\n",
       "    </tr>\n",
       "    <tr>\n",
       "      <th>452</th>\n",
       "      <td>Ford Explorer</td>\n",
       "      <td>Purchase Order</td>\n",
       "      <td>Public Request for Proposals</td>\n",
       "      <td>Arctic Bay</td>\n",
       "      <td>Family Services</td>\n",
       "      <td>Ikpiaryuk Services Ltd.</td>\n",
       "      <td>22 March 2017</td>\n",
       "      <td>$36,664.00</td>\n",
       "    </tr>\n",
       "    <tr>\n",
       "      <th>1628</th>\n",
       "      <td>Residential Care</td>\n",
       "      <td>Service Contract</td>\n",
       "      <td>Sole Source</td>\n",
       "      <td>Rankin Inlet</td>\n",
       "      <td>Family Services</td>\n",
       "      <td>Bairn Croft Residential Services Inc.</td>\n",
       "      <td>01 April 2020</td>\n",
       "      <td>$285,348.60</td>\n",
       "    </tr>\n",
       "  </tbody>\n",
       "</table>\n",
       "</div>"
      ],
      "text/plain": [
       "                               Project Name                   Contract Type  \\\n",
       "1752                       Residential Care                      Consulting   \n",
       "203   Review Child Abuse Response Protocols                      Consulting   \n",
       "1284  Group Home Windows and Doors Upgrades  Minor Construction or Services   \n",
       "243                             SMC Charter                    Air Charters   \n",
       "870                        Residential Care                Service Contract   \n",
       "1673                       Residential Care                      Consulting   \n",
       "403                        Residential Care                      Consulting   \n",
       "50                         Residential Care                      Consulting   \n",
       "452                           Ford Explorer                  Purchase Order   \n",
       "1628                       Residential Care                Service Contract   \n",
       "\n",
       "                   Contract Method           Community Originating Department  \\\n",
       "1752  Public Request for Proposals        Rankin Inlet        Family Services   \n",
       "203   Public Request for Proposals   Nunavut Territory        Family Services   \n",
       "1284                 Public Tender       Cambridge Bay        Family Services   \n",
       "243            Invitational Tender             Iqaluit        Family Services   \n",
       "870   Public Request for Proposals          Gjoa Haven        Family Services   \n",
       "1673  Public Request for Proposals  Qikiqtaaluk Region        Family Services   \n",
       "403   Public Request for Proposals             Iqaluit        Family Services   \n",
       "50    Public Request for Proposals             Iqaluit        Family Services   \n",
       "452   Public Request for Proposals          Arctic Bay        Family Services   \n",
       "1628                   Sole Source        Rankin Inlet        Family Services   \n",
       "\n",
       "                                 Awarded To         Award Date  Award Value  \n",
       "1752  Bairn Croft Residential Services Inc.      29 March 2019  $483,496.64  \n",
       "203              Michael Rudolph Consulting    17 January 2019   $14,000.00  \n",
       "1284                       Matador Products  15 September 2016  $173,830.00  \n",
       "243                             Air Nunavut  27 September 2013   $15,998.00  \n",
       "870      Sinclair Children's Residence Inc.      01 April 2015   $97,150.00  \n",
       "1673             Partners in Parenting Inc.      01 April 2017  $328,260.00  \n",
       "403        Stepping Stones Foster Care Inc.      01 April 2017   $28,811.86  \n",
       "50              Stirpe, Stones & Associates    16 January 2016    $6,638.75  \n",
       "452                 Ikpiaryuk Services Ltd.      22 March 2017   $36,664.00  \n",
       "1628  Bairn Croft Residential Services Inc.      01 April 2020  $285,348.60  "
      ]
     },
     "execution_count": 326,
     "metadata": {},
     "output_type": "execute_result"
    }
   ],
   "source": [
    "# Print a sample of 10 rows\n",
    "df.sample(10)"
   ]
  },
  {
   "cell_type": "markdown",
   "id": "2978df7d",
   "metadata": {},
   "source": [
    "## Analysis\n",
    "The data is now clean, let's try and answer the following questions: <br>\n",
    "- What is the distribution of contract types?\n",
    "- Which communities have the highest average awarded value?\n",
    "- What contractors were awarded the most number of contracts?\n",
    "- What were the most repeating projects?\n",
    "- What contractors were received the most amount of money?\n",
    "- What is the distribution of contract methods?\n",
    "- What is the distribution of awarded dates?"
   ]
  },
  {
   "cell_type": "markdown",
   "id": "ef1744fa",
   "metadata": {},
   "source": [
    "### Distribution of contract types"
   ]
  },
  {
   "cell_type": "code",
   "execution_count": 327,
   "id": "5d6ef698",
   "metadata": {},
   "outputs": [
    {
     "name": "stdout",
     "output_type": "stream",
     "text": [
      "Service Contract                  1006\n",
      "Consulting                         630\n",
      "Purchase Order                     180\n",
      "Air Charters                        10\n",
      "Minor Construction or Services       7\n",
      "Major Construction                   4\n",
      "Architectural/Engineering            1\n",
      "Name: Contract Type, dtype: int64\n"
     ]
    }
   ],
   "source": [
    "# count the occurrences of each contract type\n",
    "contract_counts = df['Contract Type'].value_counts()\n",
    "\n",
    "print(contract_counts)"
   ]
  },
  {
   "cell_type": "markdown",
   "id": "55754091",
   "metadata": {},
   "source": [
    "### Communities with highest average awarded value"
   ]
  },
  {
   "cell_type": "code",
   "execution_count": 328,
   "id": "674b5c13",
   "metadata": {},
   "outputs": [
    {
     "name": "stdout",
     "output_type": "stream",
     "text": [
      "Community\n",
      "Kivalliq Region       941427.28\n",
      "Chesterfield Inlet    908381.37\n",
      "Kitikmeot Region      525957.47\n",
      "Qikiqtaaluk Region    307634.51\n",
      "Rankin Inlet          252845.33\n",
      "Baker Lake            230600.14\n",
      "Kugaaruk              207250.48\n",
      "Gjoa Haven            197513.34\n",
      "Arviat                171800.69\n",
      "Sanikiluaq            158495.99\n",
      "Name: Award Value, dtype: float64\n"
     ]
    }
   ],
   "source": [
    "# Converting the \"Award Value\" column from object to string.\n",
    "df['Award Value'] = df['Award Value'].astype(str)\n",
    "\n",
    "# remove dollar signs and commas from the Award Value column\n",
    "df['Award Value'] = df['Award Value'].str.replace('$', '', regex=True).str.replace(',', '', regex=True).astype(float)\n",
    "\n",
    "# group the data by community and calculate the mean awarded value for each community\n",
    "awarded_mean = df.groupby('Community')['Award Value'].mean()\n",
    "\n",
    "# sort the results by the mean awarded value in descending order\n",
    "awarded_mean_sorted = awarded_mean.sort_values(ascending=False).round(2)\n",
    "\n",
    "# print the top 10 communities by average awarded value\n",
    "print(awarded_mean_sorted.head(10))"
   ]
  },
  {
   "cell_type": "markdown",
   "id": "9238d900",
   "metadata": {},
   "source": [
    "### Contractors with most number of contracts"
   ]
  },
  {
   "cell_type": "code",
   "execution_count": 329,
   "id": "14c8fdbc",
   "metadata": {},
   "outputs": [
    {
     "name": "stdout",
     "output_type": "stream",
     "text": [
      "The top 5 companies awarded the most contracts:\n",
      "\n",
      "Bairn Croft Residential Services Inc. - 126 contracts\n",
      "Sinclair Children's Residence Inc. - 107 contracts\n",
      "I Have a Chance Support Services Ltd. - 103 contracts\n",
      "Northern Networks Ltd. - 77 contracts\n",
      "Partners in Parenting Inc. - 69 contracts\n"
     ]
    }
   ],
   "source": [
    "# group the data by Awarded To, count the number of contracts awarded to each company, \n",
    "# and sort the results in descending order\n",
    "awarded_count = df.groupby('Awarded To')['Awarded To'].count().sort_values(ascending=False)\n",
    "\n",
    "# print the top 5 companies awarded the most contracts\n",
    "top_5_awarded_count = awarded_count.head(5)\n",
    "\n",
    "print('The top 5 companies awarded the most contracts:\\n')\n",
    "for company, count in top_5_awarded_count.items():\n",
    "    print(f'{company} - {count} contracts')"
   ]
  },
  {
   "cell_type": "markdown",
   "id": "3bf12bf5",
   "metadata": {},
   "source": [
    "### Projects with the most awarded contracts"
   ]
  },
  {
   "cell_type": "code",
   "execution_count": 330,
   "id": "aeac07bf",
   "metadata": {},
   "outputs": [
    {
     "name": "stdout",
     "output_type": "stream",
     "text": [
      "Residential Care                          1054\n",
      "Specialized Residential Care               174\n",
      "Office Supplies                             50\n",
      "Specialized Residential Care Treatment      43\n",
      "Relocation                                  19\n",
      "Name: Project Name, dtype: int64\n"
     ]
    }
   ],
   "source": [
    "# count the occurrences of each project name\n",
    "project_counts = df['Project Name'].value_counts()\n",
    "\n",
    "# sort the results in descending order\n",
    "project_counts_sorted = project_counts.sort_values(ascending=False)\n",
    "\n",
    "# print the top 10 project names with the highest frequency\n",
    "print(project_counts_sorted.head(5))"
   ]
  },
  {
   "cell_type": "markdown",
   "id": "0afb3d19",
   "metadata": {},
   "source": [
    "### Contractors with the highest total awarded value across all contracts"
   ]
  },
  {
   "cell_type": "code",
   "execution_count": 331,
   "id": "52fdac07",
   "metadata": {},
   "outputs": [
    {
     "name": "stdout",
     "output_type": "stream",
     "text": [
      "Awarded To\n",
      "Bairn Croft Residential Services Inc.    32124635.05\n",
      "I Have a Chance Support Services Ltd.    20784713.76\n",
      "March of Dimes Canada                    19420243.44\n",
      "Protegra Inc.                            13217471.30\n",
      "Pimakslirvik Corporation                 13137910.04\n",
      "Name: Award Value, dtype: float64\n"
     ]
    }
   ],
   "source": [
    "top_5_companies = df.groupby('Awarded To')['Award Value'].sum().nlargest(5).round(2)\n",
    "print(top_5_companies)"
   ]
  },
  {
   "cell_type": "markdown",
   "id": "dd74d677",
   "metadata": {},
   "source": [
    "### Distribution of contract methods"
   ]
  },
  {
   "cell_type": "code",
   "execution_count": 346,
   "id": "c19f05c2",
   "metadata": {},
   "outputs": [
    {
     "data": {
      "image/png": "[encoded data removed]",
      "text/plain": [
       "<Figure size 640x480 with 1 Axes>"
      ]
     },
     "metadata": {},
     "output_type": "display_data"
    }
   ],
   "source": [
    "# create a bar chart of the distribution of contract methods\n",
    "contract_methods = df['Contract Method'].value_counts()\n",
    "\n",
    "fig, ax = plt.subplots()\n",
    "ax.bar(contract_methods.index, contract_methods.values)\n",
    "\n",
    "# set the x-axis label to vertical orientation\n",
    "plt.xticks(rotation='vertical')\n",
    "\n",
    "# add text labels to the bars\n",
    "for i, v in enumerate(contract_methods.values):\n",
    "    ax.text(i, v, str(v), ha='center', fontweight='bold')\n",
    "    \n",
    "ax.set(title='Distribution of Contract Methods', xlabel='Contract Method', ylabel='Number of Contracts')\n",
    "\n",
    "plt.show()"
   ]
  },
  {
   "cell_type": "markdown",
   "id": "569580e8",
   "metadata": {},
   "source": [
    "### Distribution of awarded dates"
   ]
  },
  {
   "cell_type": "code",
   "execution_count": 342,
   "id": "1334f013",
   "metadata": {},
   "outputs": [
    {
     "data": {
      "image/png": "[encoded data removed]",
      "text/plain": [
       "<Figure size 1000x600 with 2 Axes>"
      ]
     },
     "metadata": {},
     "output_type": "display_data"
    }
   ],
   "source": [
    "# create a pivot table to count the number of contracts awarded on each day\n",
    "date_counts = df.groupby('Award Date')['Awarded To'].count()\n",
    "\n",
    "# reshape the data to create a pivot table\n",
    "date_counts = date_counts.reset_index(name='count')\n",
    "date_counts['year'] = pd.DatetimeIndex(date_counts['Award Date']).year\n",
    "date_counts['month'] = pd.DatetimeIndex(date_counts['Award Date']).month_name()\n",
    "\n",
    "pivot_table = pd.pivot_table(date_counts, index='month', columns='year', values='count', aggfunc='sum')\n",
    "\n",
    "# create a heatmap\n",
    "plt.figure(figsize=(10, 6))\n",
    "sns.heatmap(pivot_table, cmap='YlGnBu', annot=True, fmt='g')\n",
    "plt.title('Distribution of Awarded Dates')\n",
    "plt.xlabel('Year')\n",
    "plt.ylabel('Month')\n",
    "plt.show()"
   ]
  },
  {
   "cell_type": "code",
   "execution_count": null,
   "id": "aeffe489",
   "metadata": {},
   "outputs": [],
   "source": []
  },
  {
   "cell_type": "code",
   "execution_count": null,
   "id": "53499d72",
   "metadata": {},
   "outputs": [],
   "source": []
  }
 ],
 "metadata": {
  "kernelspec": {
   "display_name": "Python 3 (ipykernel)",
   "language": "python",
   "name": "python3"
  },
  "language_info": {
   "codemirror_mode": {
    "name": "ipython",
    "version": 3
   },
   "file_extension": ".py",
   "mimetype": "text/x-python",
   "name": "python",
   "nbconvert_exporter": "python",
   "pygments_lexer": "ipython3",
   "version": "3.10.9"
  }
 },
 "nbformat": 4,
 "nbformat_minor": 5
}
